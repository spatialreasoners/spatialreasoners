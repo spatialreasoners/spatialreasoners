{
 "cells": [
  {
   "cell_type": "code",
   "execution_count": 6,
   "metadata": {},
   "outputs": [],
   "source": [
    "import torch\n",
    "from torch import Tensor\n",
    "from torch import optim\n",
    "from jaxtyping import Float\n",
    "from PIL import Image, ImageDraw\n",
    "\n",
    "def visualize_circles_image(circle_positions: Float[Tensor, \"num_circles 2\"], radii: Float[Tensor, \"num_circles\"], image_size = 256):\n",
    "    image = Image.new(\"RGB\", (image_size, image_size), \"white\")\n",
    "    draw = ImageDraw.Draw(image)\n",
    "    \n",
    "    centers = (circle_positions * image_size).detach().cpu().numpy()\n",
    "    radii = radii.detach().cpu().numpy() * image_size\n",
    "    \n",
    "    for center, radius in zip(centers, radii):\n",
    "        draw.circle(center, radius, fill=\"black\")\n",
    "    return image\n",
    "    \n",
    "\n",
    "def get_overlap_loss(\n",
    "    circle_positions: Float[Tensor, \"batch num_circles 2\"],\n",
    "    radii: Float[Tensor, \"batch num_circles\"],\n",
    "    eps=1e-6,\n",
    ") -> Float[Tensor, \"batch\"]:\n",
    "    num_circles = radii.shape[1]\n",
    "    assert circle_positions.shape[1] == num_circles\n",
    "\n",
    "    circle_positions = circle_positions.unsqueeze(2)\n",
    "    circle_positions = circle_positions.repeat(1, 1, num_circles, 1)\n",
    "    circle_positions_transposed = circle_positions.transpose(1, 2)\n",
    "\n",
    "    distances = torch.norm(circle_positions - circle_positions_transposed, p=2, dim=3)\n",
    "\n",
    "    radii = radii.unsqueeze(1)\n",
    "    radii = radii.repeat(1, num_circles, 1)\n",
    "\n",
    "    min_distance = radii + radii.transpose(1, 2) + eps\n",
    "\n",
    "    min_distance = torch.tril(min_distance, diagonal=-1)\n",
    "\n",
    "    return torch.relu(min_distance - distances).sum(dim=[1, 2])\n",
    "\n",
    "\n",
    "def get_image_overflow_loss(\n",
    "    circle_positions: Float[Tensor, \"batch num_circles 2\"],\n",
    "    radii: Float[Tensor, \"batch num_circles\"],\n",
    ") -> Float[Tensor, \"batch\"]:\n",
    "    num_circles = radii.shape[1]\n",
    "    batch_size = radii.shape[0]\n",
    "    assert circle_positions.shape[1] == num_circles\n",
    "    assert circle_positions.shape[0] == batch_size\n",
    "\n",
    "    radii_unsqueezed = radii.reshape(batch_size, num_circles, 1).repeat(1, 1, 2)\n",
    "\n",
    "    overflow_low = torch.relu(radii_unsqueezed - circle_positions)\n",
    "    overflow_high = torch.relu(circle_positions + radii_unsqueezed - 1.0)\n",
    "\n",
    "    return overflow_low.sum(dim=[1,2]) + overflow_high.sum(dim=[1,2])\n",
    "\n",
    "\n",
    "def generate_centers_and_radiuses(\n",
    "    batch_size: int = 40,\n",
    "    num_circles: int = 5,\n",
    "    min_radius=0.07,\n",
    "    max_radius=0.2,\n",
    "    max_iters=2000,\n",
    "    device=\"cpu\",\n",
    "):\n",
    "    radii = torch.rand(batch_size, num_circles, device=device) * (max_radius - min_radius) + min_radius\n",
    "\n",
    "    circle_positions = torch.rand(batch_size, num_circles, 2, device=device) \n",
    "    circle_positions = circle_positions\n",
    "    circle_positions = circle_positions.detach().requires_grad_(True)\n",
    "\n",
    "    # Now let's optimize the circle positions to fit the image and not overlap\n",
    "    optimizer = optim.Adam([circle_positions], lr=0.01)\n",
    "    \n",
    "    for i in range(max_iters):\n",
    "        optimizer.zero_grad()\n",
    "        overlap_loss = get_overlap_loss(circle_positions, radii)\n",
    "        image_overflow_loss = get_image_overflow_loss(circle_positions, radii)\n",
    "        \n",
    "        batched_loss = overlap_loss + image_overflow_loss\n",
    "        \n",
    "        \n",
    "        loss = batched_loss.sum()\n",
    "        \n",
    "        if loss.item() <= 0.001:\n",
    "            print(\"Breaking at iteration\", i)\n",
    "            break\n",
    "\n",
    "        \n",
    "        loss.backward()\n",
    "        optimizer.step()\n",
    "\n",
    "    return circle_positions, radii"
   ]
  },
  {
   "cell_type": "code",
   "execution_count": 14,
   "metadata": {},
   "outputs": [
    {
     "name": "stderr",
     "output_type": "stream",
     "text": [
      " 36%|███▋      | 4/11 [00:00<00:00, 36.04it/s]"
     ]
    },
    {
     "name": "stdout",
     "output_type": "stream",
     "text": [
      "Breaking at iteration 16\n",
      "Breaking at iteration 54\n",
      "Breaking at iteration 75\n",
      "Breaking at iteration 98\n",
      "Breaking at iteration 129\n",
      "Breaking at iteration 151\n",
      "Breaking at iteration 193\n"
     ]
    },
    {
     "name": "stderr",
     "output_type": "stream",
     "text": [
      " 73%|███████▎  | 8/11 [00:00<00:00,  8.65it/s]"
     ]
    },
    {
     "name": "stdout",
     "output_type": "stream",
     "text": [
      "Breaking at iteration 272\n",
      "Breaking at iteration 617\n"
     ]
    },
    {
     "name": "stderr",
     "output_type": "stream",
     "text": [
      " 91%|█████████ | 10/11 [00:18<00:02,  2.66s/it]"
     ]
    },
    {
     "name": "stdout",
     "output_type": "stream",
     "text": [
      "Breaking at iteration 6417\n"
     ]
    },
    {
     "name": "stderr",
     "output_type": "stream",
     "text": [
      "100%|██████████| 11/11 [00:42<00:00,  3.88s/it]\n"
     ]
    }
   ],
   "source": [
    "# Save positions to file\n",
    "from tqdm import tqdm\n",
    "import numpy as np\n",
    "\n",
    "device = torch.device(\"cuda\" if torch.cuda.is_available() else \"cpu\")\n",
    "min_radius = 0.07\n",
    "max_radius = 0.155\n",
    "max_optimization_iters = 8000\n",
    "circles_per_num_circles = 100_000\n",
    "\n",
    "results = {}\n",
    "\n",
    "for num_circles in tqdm(range(1, 11 + 1)):\n",
    "    circle_positions, radii = generate_centers_and_radiuses(\n",
    "        num_circles=num_circles,\n",
    "        min_radius=min_radius,\n",
    "        max_radius=max_radius,\n",
    "        max_iters=max_optimization_iters,\n",
    "        batch_size=circles_per_num_circles,\n",
    "        device=device,\n",
    "    )\n",
    "\n",
    "    xyr = torch.cat([circle_positions, radii.unsqueeze(2)], dim=2)\n",
    "\n",
    "    results[num_circles] = xyr.detach().cpu().numpy()\n",
    "\n",
    "np.save(\"circle_position_radius.npy\", results)"
   ]
  },
  {
   "cell_type": "markdown",
   "metadata": {},
   "source": [
    "# Maximal fit circles in the most dense variant\n",
    "Just to check the overlaps "
   ]
  },
  {
   "cell_type": "code",
   "execution_count": 15,
   "metadata": {},
   "outputs": [
    {
     "data": {
      "image/jpeg": "[encoded data removed]",
      "image/png": "[encoded data removed]",
      "text/plain": [
       "<PIL.Image.Image image mode=RGB size=256x256>"
      ]
     },
     "execution_count": 15,
     "metadata": {},
     "output_type": "execute_result"
    }
   ],
   "source": [
    "max_index = radii.sum(dim=1).argmax()\n",
    "visualize_circles_image(circle_positions[max_index], radii[max_index])"
   ]
  },
  {
   "cell_type": "markdown",
   "metadata": {},
   "source": [
    "# Minimal fit circles in the most dense variant\n",
    "Just to check whether the circles are not too small "
   ]
  },
  {
   "cell_type": "code",
   "execution_count": 17,
   "metadata": {},
   "outputs": [
    {
     "data": {
      "image/jpeg": "[encoded data removed]",
      "image/png": "[encoded data removed]",
      "text/plain": [
       "<PIL.Image.Image image mode=RGB size=256x256>"
      ]
     },
     "execution_count": 17,
     "metadata": {},
     "output_type": "execute_result"
    }
   ],
   "source": [
    "\n",
    "min_index = radii.sum(dim=1).argmin()\n",
    "visualize_circles_image(circle_positions[min_index], radii[min_index])"
   ]
  }
 ],
 "metadata": {
  "kernelspec": {
   "display_name": ".venv-afm",
   "language": "python",
   "name": "python3"
  },
  "language_info": {
   "codemirror_mode": {
    "name": "ipython",
    "version": 3
   },
   "file_extension": ".py",
   "mimetype": "text/x-python",
   "name": "python",
   "nbconvert_exporter": "python",
   "pygments_lexer": "ipython3",
   "version": "3.11.2"
  }
 },
 "nbformat": 4,
 "nbformat_minor": 2
}
